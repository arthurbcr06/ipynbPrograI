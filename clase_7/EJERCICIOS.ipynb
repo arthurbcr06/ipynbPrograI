{
 "cells": [
  {
   "cell_type": "code",
   "execution_count": 1,
   "id": "81c39611",
   "metadata": {},
   "outputs": [
    {
     "name": "stdout",
     "output_type": "stream",
     "text": [
      "Writing ejercicios_correo.cpp\n"
     ]
    }
   ],
   "source": [
    "%%writefile ejercicios_correo.cpp\n",
    "\n",
    "#include <iostream> \n",
    "\n",
    "using namespace std;\n",
    "\n",
    "int main(){\n",
    "    cout << \"Nombre : Arthur BEUCHER\"<<endl;\n",
    "    cout << \"Correo : arthur.beucher06@gmail.com\"<<endl;\n",
    "    \n",
    "    return 0;\n",
    "}"
   ]
  },
  {
   "cell_type": "code",
   "execution_count": 2,
   "id": "14c0c288",
   "metadata": {},
   "outputs": [],
   "source": [
    "!g++ ejercicios_correo.cpp -o ejercicios_correo"
   ]
  },
  {
   "cell_type": "code",
   "execution_count": 10,
   "id": "79d0b4f9",
   "metadata": {},
   "outputs": [
    {
     "name": "stdout",
     "output_type": "stream",
     "text": [
      "Overwriting askName.cpp\n"
     ]
    }
   ],
   "source": [
    "%%writefile askName.cpp\n",
    "#include <iostream> \n",
    "using namespace std;\n",
    "int main(){\n",
    "    string nombre, apellido; \n",
    "    cout<<\"Escribe tu nombre : \";\n",
    "    cin>>nombre;\n",
    "    cout<<\"Escribe tu apellido :\";\n",
    "    cin>>apellido;\n",
    "    getLIne(cin, nombre);\n",
    "    cout<< \"Hola \"<<nombre<<\" \"<<apellido<<endl;\n",
    "    return 0;\n",
    "}"
   ]
  },
  {
   "cell_type": "code",
   "execution_count": 8,
   "id": "0cb94eaf",
   "metadata": {},
   "outputs": [],
   "source": [
    "!g++ askName.cpp -o askname"
   ]
  },
  {
   "cell_type": "code",
   "execution_count": 21,
   "id": "6381f401",
   "metadata": {},
   "outputs": [
    {
     "name": "stdout",
     "output_type": "stream",
     "text": [
      "Overwriting 3.cpp\n"
     ]
    }
   ],
   "source": [
    "%%writefile 3.cpp \n",
    "#include <iostream>\n",
    "using namespace std;\n",
    "int main(){\n",
    "    double largo, ancho;\n",
    "    cout<<\"Escribe el largo (en metros) : \";\n",
    "    cin>>largo;\n",
    "    cout<<\"EScribe el ancho (en metros):\";\n",
    "    cin>>ancho;\n",
    "    float area = largo * ancho;\n",
    "    cout<<\"El area es \"<<area<<\" metros cuadrados\"<<endl;\n",
    "    return 0;\n",
    "}"
   ]
  },
  {
   "cell_type": "code",
   "execution_count": 22,
   "id": "a0e5426d",
   "metadata": {},
   "outputs": [],
   "source": [
    "!g++ 3.cpp -o 3"
   ]
  },
  {
   "cell_type": "code",
   "execution_count": 31,
   "id": "b575302c",
   "metadata": {},
   "outputs": [
    {
     "name": "stdout",
     "output_type": "stream",
     "text": [
      "Overwriting 4.cpp\n"
     ]
    }
   ],
   "source": [
    "%%writefile 4.cpp \n",
    "#include <iostream> \n",
    "using namespace std; \n",
    "int main(){\n",
    "    float largo, ancho;\n",
    "    cout<<\"Ingrese el largo : \";\n",
    "    cin>>largo;\n",
    "    cout<<\"Ingrese el ancho : \";\n",
    "    cin>>ancho;\n",
    "    double area_acres = (largo*ancho) / 43560;\n",
    "    cout<<\"EL area es : \"<<area_acres<<\" acres\"<<endl;\n",
    "    return 0;\n",
    "}"
   ]
  },
  {
   "cell_type": "code",
   "execution_count": 32,
   "id": "81fef5b5",
   "metadata": {},
   "outputs": [],
   "source": [
    "!g++ 4.cpp -o 4"
   ]
  },
  {
   "cell_type": "code",
   "execution_count": null,
   "id": "21ae9346",
   "metadata": {},
   "outputs": [],
   "source": []
  }
 ],
 "metadata": {
  "kernelspec": {
   "display_name": "Python 3 (ipykernel)",
   "language": "python",
   "name": "python3"
  },
  "language_info": {
   "codemirror_mode": {
    "name": "ipython",
    "version": 3
   },
   "file_extension": ".py",
   "mimetype": "text/x-python",
   "name": "python",
   "nbconvert_exporter": "python",
   "pygments_lexer": "ipython3",
   "version": "3.12.3"
  }
 },
 "nbformat": 4,
 "nbformat_minor": 5
}
