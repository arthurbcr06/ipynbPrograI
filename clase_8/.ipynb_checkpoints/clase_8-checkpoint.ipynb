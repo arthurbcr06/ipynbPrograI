{
 "cells": [
  {
   "cell_type": "code",
   "execution_count": 3,
   "id": "298c88d0",
   "metadata": {},
   "outputs": [
    {
     "name": "stdout",
     "output_type": "stream",
     "text": [
      "Overwriting example_3.cpp\n"
     ]
    }
   ],
   "source": [
    "%%writefile example_3.cpp \n",
    "\n",
    "#include <iostream> \n",
    "\n",
    "using namespace std;\n",
    "\n",
    "int main(){\n",
    "    int i;\n",
    "    for(i=0;i<10;i++)\n",
    "    switch(i){\n",
    "        case 0:\n",
    "        std::cout<<\"i is zero\"<<endl;\n",
    "        break;\n",
    "        case 1:\n",
    "        std::cout<<\"i is one\"<<endl;\n",
    "        break;\n",
    "        case 2:\n",
    "        std::cout<<\"i is two\"<<endl;\n",
    "        break;\n",
    "        case 3:\n",
    "        std::cout<<\"i is three\"<<endl;\n",
    "        break;\n",
    "        case 4:\n",
    "        std::cout<<\"i is four\"<<endl;\n",
    "        break;\n",
    "        default:\n",
    "        std::cout<<\"i is five or more\"<<endl;\n",
    "    }\n",
    "    return 0;\n",
    "}"
   ]
  },
  {
   "cell_type": "code",
   "execution_count": 4,
   "id": "80b0b445",
   "metadata": {},
   "outputs": [],
   "source": [
    "!g++ example_3.cpp -o example_3"
   ]
  },
  {
   "cell_type": "code",
   "execution_count": 7,
   "id": "75577bf4",
   "metadata": {},
   "outputs": [
    {
     "name": "stdout",
     "output_type": "stream",
     "text": [
      "Overwriting example_4.cpp\n"
     ]
    }
   ],
   "source": [
    "%%writefile example_4.cpp\n",
    "\n",
    "#include <iostream> \n",
    "\n",
    "using namespace std;\n",
    "\n",
    "int main(){\n",
    "    for(i=0;i<=5;i++){\n",
    "        switch(i){\n",
    "            case 0:\n",
    "            std::cout<<\"i is less than one\"<<endl;\n",
    "            case 1:\n",
    "            std::cout<<\"i is less than two\"<<endl;\n",
    "            case 2:\n",
    "            std::cout<<\"i is less than three\"<<endl;\n",
    "            case 3:\n",
    "            std::cout<<\"i is less than four\"<<endl;\n",
    "            case 4:\n",
    "            std::cout<<\"i is less than five\"<<endl;\n",
    "        }\n",
    "        std::cout<<\" \"<<endl;\n",
    "    }\n",
    "    return 0;\n",
    "}"
   ]
  },
  {
   "cell_type": "code",
   "execution_count": 8,
   "id": "3a776f38",
   "metadata": {},
   "outputs": [
    {
     "name": "stdout",
     "output_type": "stream",
     "text": [
      "\u001b[01m\u001b[Kexample_4.cpp:\u001b[m\u001b[K In function ‘\u001b[01m\u001b[Kint\u001b[01;32m\u001b[K main\u001b[m\u001b[K()\u001b[m\u001b[K’:\r\n",
      "\u001b[01m\u001b[Kexample_4.cpp:7:9:\u001b[m\u001b[K \u001b[01;31m\u001b[Kerror: \u001b[m\u001b[K‘\u001b[01m\u001b[Ki\u001b[m\u001b[K’ was not declared in this scope\r\n",
      "    7 |     for(\u001b[01;31m\u001b[Ki\u001b[m\u001b[K=0;i<=5;i++){\r\n",
      "      |         \u001b[01;31m\u001b[K^\u001b[m\u001b[K\r\n"
     ]
    }
   ],
   "source": [
    "!g++ example_4.cpp -o example_4"
   ]
  },
  {
   "cell_type": "code",
   "execution_count": 12,
   "id": "d557cbd7",
   "metadata": {},
   "outputs": [
    {
     "name": "stdout",
     "output_type": "stream",
     "text": [
      "Overwriting ayuda.cpp\n"
     ]
    }
   ],
   "source": [
    "%%writefile ayuda.cpp \n",
    "#include <iostream> \n",
    "using namespace std;\n",
    "int main(){\n",
    "    char choice;\n",
    "    std::cout<<\"HElp on:\"<<endl;\n",
    "    std::cout<<\"1. if\"<<endl;\n",
    "    std::cout<<\"2. switch\"<<endl;\n",
    "    std::cout<<\"Choose one :\"<<endl;  \n",
    "    std::cin>>choice;\n",
    "    \n",
    "    switch(choice){\n",
    "        case'1':\n",
    "        std::cout<<\"The if:\\n\"<<endl;\n",
    "        std::cout<<\"If(condition) statement;\"<<endl;\n",
    "        std::cout<<\"else statement;\"<<endl;\n",
    "        break;\n",
    "        case'2':\n",
    "        std::cout<<\"The switch:\\n\"<<endl;\n",
    "        std::cout<<\"switch(expression) {\"<<endl;\n",
    "        std::cout<<\"case cosntant :\"<<endl;\n",
    "        std::cout<<\"statement sequence\"<<endl;\n",
    "        std::cout<<\"break;\"<<endl;\n",
    "        std::cout<<\"/\"<<\"/...\"<<endl;\n",
    "        std::cout<<\"}\"<<endl;\n",
    "        break;\n",
    "        defaul:\n",
    "        std::cout<<\"Selection not found.\"<<endl;\n",
    "    }\n",
    "    return 0;\n",
    "}"
   ]
  },
  {
   "cell_type": "code",
   "execution_count": 13,
   "id": "6c9482ca",
   "metadata": {},
   "outputs": [],
   "source": [
    "!g++ ayuda.cpp -o ayuda"
   ]
  },
  {
   "cell_type": "code",
   "execution_count": null,
   "id": "91460e54",
   "metadata": {},
   "outputs": [],
   "source": []
  }
 ],
 "metadata": {
  "kernelspec": {
   "display_name": "Python 3 (ipykernel)",
   "language": "python",
   "name": "python3"
  },
  "language_info": {
   "codemirror_mode": {
    "name": "ipython",
    "version": 3
   },
   "file_extension": ".py",
   "mimetype": "text/x-python",
   "name": "python",
   "nbconvert_exporter": "python",
   "pygments_lexer": "ipython3",
   "version": "3.12.3"
  }
 },
 "nbformat": 4,
 "nbformat_minor": 5
}
