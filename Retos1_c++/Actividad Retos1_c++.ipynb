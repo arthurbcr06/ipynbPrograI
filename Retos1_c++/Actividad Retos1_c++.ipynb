{
 "cells": [
  {
   "cell_type": "code",
   "execution_count": 7,
   "id": "14cf83fb",
   "metadata": {},
   "outputs": [
    {
     "name": "stdout",
     "output_type": "stream",
     "text": [
      "Overwriting ejercicio1.cpp\n"
     ]
    }
   ],
   "source": [
    "%%writefile ejercicio1.cpp\n",
    "#include <iostream>\n",
    "#include <string>\n",
    "\n",
    "/* Escriba un programa que solicite al usuario que ingrese su nombre.\n",
    "El programa debe responder con un mensaje que salude al usuario, utilizando su nombre */\n",
    "\n",
    "int main() {\n",
    "    std::string nombre;\n",
    "    std::cout << \"Ingrese tu nombre: \";\n",
    "    std::cin >> nombre;\n",
    "    std::cout << \"Buenos dias, \" << nombre << std::endl;\n",
    "    return 0;\n",
    "}\n"
   ]
  },
  {
   "cell_type": "code",
   "execution_count": 8,
   "id": "950bb7f9",
   "metadata": {},
   "outputs": [],
   "source": [
    "!g++ ejercicio1.cpp -o 1"
   ]
  },
  {
   "cell_type": "code",
   "execution_count": 9,
   "id": "7bbb43be",
   "metadata": {},
   "outputs": [
    {
     "name": "stdout",
     "output_type": "stream",
     "text": [
      "Writing chatgpt_1.cpp\n"
     ]
    }
   ],
   "source": [
    "%%writefile chatgpt_1.cpp\n",
    "#include <iostream>\n",
    "int main() {\n",
    "    std::cout << \"Ingrese tu nombre: \";\n",
    "    std::string nombre;\n",
    "    std::getline(std::cin, nombre); // Permite nombres con espacios\n",
    "    std::cout << \"Buenos días, \" << nombre << \"!\\n\";\n",
    "    return 0;\n",
    "}"
   ]
  },
  {
   "cell_type": "code",
   "execution_count": 10,
   "id": "ea70e4fe",
   "metadata": {},
   "outputs": [],
   "source": [
    "!g++ chatgpt_1.cpp -o chat1"
   ]
  },
  {
   "cell_type": "code",
   "execution_count": 46,
   "id": "29400dd7",
   "metadata": {},
   "outputs": [
    {
     "name": "stdout",
     "output_type": "stream",
     "text": [
      "Overwriting ejercicio2.cpp\n"
     ]
    }
   ],
   "source": [
    "%%writefile ejercicio2.cpp\n",
    "\n",
    "/* Ponga en orden la frase garantizado que la longitud de la cadena solo tenga un espacio entre frase y frase \n",
    "excepto en el comienzo y el final : culpa, mal,un,siempre,la,trabajador,a,herramienta*/\n",
    "#include <iostream>\n",
    "#include <vector>\n",
    "#include <string>\n",
    "\n",
    "int main() {\n",
    "    // Vector con las palabras desordenadas\n",
    "    std::vector<std::string> palabras = {\"culpa\", \"mal\", \"un\", \"siempre\", \"la\", \"trabajador\", \"a\", \"herramienta\"};\n",
    "\n",
    "    // Vector con el orden deseado\n",
    "    std::vector<std::string> orden = {\"un\", \"trabajador\", \"siempre\", \"culpa\", \"a\", \"la\", \"herramienta\"};\n",
    "\n",
    "    // Imprimir la frase ordenada\n",
    "    for (size_t i = 0; i < orden.size(); ++i) {\n",
    "        std::cout << orden[i];\n",
    "        if (i < orden.size() - 1) {\n",
    "            std::cout << \" \";\n",
    "        }\n",
    "    }\n",
    "\n",
    "    return 0;\n",
    "}\n"
   ]
  },
  {
   "cell_type": "code",
   "execution_count": 47,
   "id": "54469a96",
   "metadata": {},
   "outputs": [],
   "source": [
    "!g++ ejercicio2.cpp -o e2"
   ]
  },
  {
   "cell_type": "code",
   "execution_count": 54,
   "id": "b7c02e42",
   "metadata": {},
   "outputs": [
    {
     "name": "stdout",
     "output_type": "stream",
     "text": [
      "Overwriting chatgpt_2.cpp\n"
     ]
    }
   ],
   "source": [
    "%%writefile chatgpt_2.cpp\n",
    "#include <iostream>\n",
    "#include <vector>\n",
    "#include <unordered_map>\n",
    "\n",
    "int main() {\n",
    "    std::vector<std::string> palabras = {\"culpa\", \"mal\", \"un\", \"siempre\", \"la\", \"trabajador\", \"a\", \"herramienta\"};\n",
    "    std::vector<std::string> orden = {\"un\", \"trabajador\", \"siempre\", \"culpa\", \"a\", \"la\", \"herramienta\"};\n",
    "\n",
    "    std::unordered_map<std::string, int> indice;\n",
    "    for (size_t i = 0; i < palabras.size(); ++i) {\n",
    "        indice[palabras[i]] = i;\n",
    "    }\n",
    "\n",
    "    for (size_t i = 0; i < orden.size(); ++i) {\n",
    "        std::cout << palabras[indice[orden[i]]] << (i < orden.size() - 1 ? \" \" : \"\");\n",
    "    }\n",
    "\n",
    "    return 0;\n",
    "}\n"
   ]
  },
  {
   "cell_type": "code",
   "execution_count": 55,
   "id": "df9868bd",
   "metadata": {},
   "outputs": [],
   "source": [
    "!g++ chatgpt_2.cpp -o c2"
   ]
  },
  {
   "cell_type": "code",
   "execution_count": 59,
   "id": "e3ed2dea",
   "metadata": {},
   "outputs": [
    {
     "name": "stdout",
     "output_type": "stream",
     "text": [
      "Overwriting ejercicio_3.cpp\n"
     ]
    }
   ],
   "source": [
    "%%writefile ejercicio_3.cpp\n",
    "/* Declare una variable que contenga la frase obtenida en el ejercicio anterior. Coloque las mayusculas necesarias\n",
    "y una comadetras de la palabra \"trabajador\". Imprima la frase, sustituya la frase trabajador por estudiante y la \n",
    "frase herramienta por profesor convenientemente. Imprima la frase */ \n",
    "#include <iostream>\n",
    "#include <string>\n",
    "\n",
    "int main() {\n",
    "    std::string frase = \"Un Trabajador, siempre culpa a la Herramienta\";\n",
    "\n",
    "    std::cout << \"Frase original: \" << frase << std::endl;\n",
    "\n",
    "    size_t pos = frase.find(\"Trabajador\");\n",
    "    if (pos != std::string::npos) {\n",
    "        frase.replace(pos, 10, \"Estudiante\");\n",
    "    }\n",
    "\n",
    "    pos = frase.find(\"Herramienta\");\n",
    "    if (pos != std::string::npos) {\n",
    "        frase.replace(pos, 11, \"Profesor\");\n",
    "    }\n",
    "\n",
    "    std::cout << \"Frase modificada: \" << frase << std::endl;\n",
    "\n",
    "    return 0;\n",
    "}\n"
   ]
  },
  {
   "cell_type": "code",
   "execution_count": 60,
   "id": "79b7bd75",
   "metadata": {},
   "outputs": [],
   "source": [
    "!g++ ejercicio_3.cpp -o e3"
   ]
  },
  {
   "cell_type": "code",
   "execution_count": 57,
   "id": "ab51c132",
   "metadata": {},
   "outputs": [
    {
     "name": "stdout",
     "output_type": "stream",
     "text": [
      "Overwriting chatgpt_3.cpp\n"
     ]
    }
   ],
   "source": [
    "%%writefile chatgpt_3.cpp\n",
    "#include <iostream>\n",
    "\n",
    "int main() {\n",
    "    std::string frase = \"Un Trabajador, siempre culpa a la Herramienta\";\n",
    "    std::cout << \"Frase original: \" << frase << '\\n';\n",
    "\n",
    "    for (const auto& [mot, remplacement] : {std::pair{\"Trabajador\", \"Estudiante\"}, {\"Herramienta\", \"Profesor\"}}) {\n",
    "        size_t pos = frase.find(mot);\n",
    "        if (pos != std::string::npos) {\n",
    "            frase.replace(pos, std::string(mot).length(), remplacement);\n",
    "        }\n",
    "    }\n",
    "\n",
    "    std::cout << \"Frase modificada: \" << frase << '\\n';\n",
    "    return 0;\n",
    "}\n",
    "\n"
   ]
  },
  {
   "cell_type": "code",
   "execution_count": 58,
   "id": "2324f761",
   "metadata": {},
   "outputs": [],
   "source": [
    "!g++ chatgpt_3.cpp -o c3"
   ]
  },
  {
   "cell_type": "code",
   "execution_count": 19,
   "id": "1b8ed962",
   "metadata": {},
   "outputs": [
    {
     "name": "stdout",
     "output_type": "stream",
     "text": [
      "Writing ejercicio_4.cpp\n"
     ]
    }
   ],
   "source": [
    "%%writefile ejercicio_4.cpp \n",
    "/* Dado el siguiente texto de Shakespeare : mas de una vez he visto, la luz de la manana, acariciar las cumbres\n",
    "con ojo soberano, besar su labio de oro el verdor de los campos, dorando los arroyos con celestial alquimia. \n",
    "cuanta cuantas veces aparece la \"a\" en la estrofa */\n",
    "\n",
    "#include <iostream>\n",
    "#include <string>\n",
    "\n",
    "int main() {\n",
    "    std::string texto = \"mas de una vez he visto, la luz de la manana, acariciar las cumbres \"\n",
    "                        \"con ojo soberano, besar su labio de oro el verdor de los campos, \"\n",
    "                        \"dorando los arroyos con celestial alquimia.\";\n",
    "    int contador = 0;\n",
    "    for (char c : texto) {\n",
    "        if (c == 'a') {\n",
    "            contador++;\n",
    "        }\n",
    "    }\n",
    "\n",
    "    std::cout << \"La letra 'a' aparece \" << contador << \" veces en la estrofa.\" << std::endl;\n",
    "    return 0;\n",
    "}\n"
   ]
  },
  {
   "cell_type": "code",
   "execution_count": 20,
   "id": "a105cf3f",
   "metadata": {},
   "outputs": [],
   "source": [
    "!g++ ejercicio_4.cpp -o e4"
   ]
  },
  {
   "cell_type": "code",
   "execution_count": 21,
   "id": "71d61570",
   "metadata": {},
   "outputs": [
    {
     "name": "stdout",
     "output_type": "stream",
     "text": [
      "Writing chatgpt_4.cpp\n"
     ]
    }
   ],
   "source": [
    "%%writefile chatgpt_4.cpp\n",
    "#include <iostream>\n",
    "#include <string>\n",
    "#include <algorithm>\n",
    "\n",
    "int main() {\n",
    "    std::string texto = \"mas de una vez he visto, la luz de la manana, acariciar las cumbres \"\n",
    "                        \"con ojo soberano, besar su labio de oro el verdor de los campos, \"\n",
    "                        \"dorando los arroyos con celestial alquimia.\";\n",
    "\n",
    "    // Compter les occurrences de 'a'\n",
    "    int contador = std::count(texto.begin(), texto.end(), 'a');\n",
    "\n",
    "    // Imprimer le résultat\n",
    "    std::cout << \"La letra 'a' aparece \" << contador << \" veces en la estrofa.\" << std::endl;\n",
    "    \n",
    "    return 0;\n",
    "}\n"
   ]
  },
  {
   "cell_type": "code",
   "execution_count": 22,
   "id": "d199c3be",
   "metadata": {},
   "outputs": [],
   "source": [
    "!g++ chatgpt_4.cpp -o c4"
   ]
  },
  {
   "cell_type": "code",
   "execution_count": 23,
   "id": "9f465f39",
   "metadata": {},
   "outputs": [
    {
     "name": "stdout",
     "output_type": "stream",
     "text": [
      "Writing ejercicio_5.cpp\n"
     ]
    }
   ],
   "source": [
    "%%writefile ejercicio_5.cpp \n",
    "/* escriba un programa que le pida al usuario que ingrese el ancho y el largo de una habitacion. Una vez que se \n",
    "hayan leido los valores, su programa deberia calcular y mostrar el aera de la habitacion. La longitud y el ancho se\n",
    "ingreseran como numeros de punto flotante. Incluya unidades en su mensaje de aviso y salida; ya sea pies o metros, \n",
    "dependiendo de con qué unidad se sienta mas comodo trabajando */\n",
    "#include <iostream>\n",
    "\n",
    "int main() {\n",
    "    double largo, ancho;\n",
    "    std::cout << \"Ingrese el ancho de la habitacion en metros: \";\n",
    "    std::cin >> ancho;\n",
    "    std::cout << \"Ingrese el largo de la habitacion en metros: \";\n",
    "    std::cin >> largo;\n",
    "    double area = largo * ancho;\n",
    "    std::cout << \"El area de la habitacion es: \" << area << \" metros cuadrados.\" << std::endl;\n",
    "\n",
    "    return 0;\n",
    "}"
   ]
  },
  {
   "cell_type": "code",
   "execution_count": 24,
   "id": "2d8241be",
   "metadata": {},
   "outputs": [],
   "source": [
    "!g++ ejercicio_5.cpp -o e5"
   ]
  },
  {
   "cell_type": "code",
   "execution_count": 25,
   "id": "b6103bc2",
   "metadata": {},
   "outputs": [
    {
     "name": "stdout",
     "output_type": "stream",
     "text": [
      "Writing chatgpt_5.cpp\n"
     ]
    }
   ],
   "source": [
    "%%writefile chatgpt_5.cpp \n",
    "#include <iostream>\n",
    "\n",
    "int main() {\n",
    "    double largo, ancho;\n",
    "\n",
    "    std::cout << \"Ingrese el ancho de la habitacion en metros: \";\n",
    "    std::cin >> ancho;\n",
    "    std::cout << \"Ingrese el largo de la habitacion en metros: \";\n",
    "    std::cin >> largo;\n",
    "\n",
    "    std::cout << \"El area de la habitacion es: \" << (largo * ancho) << \" metros cuadrados.\\n\";\n",
    "    \n",
    "    return 0;\n",
    "}"
   ]
  },
  {
   "cell_type": "code",
   "execution_count": 26,
   "id": "c6fdee4c",
   "metadata": {},
   "outputs": [],
   "source": [
    "!g++ chatgpt_5.cpp -o c5"
   ]
  },
  {
   "cell_type": "code",
   "execution_count": 27,
   "id": "005af708",
   "metadata": {},
   "outputs": [
    {
     "name": "stdout",
     "output_type": "stream",
     "text": [
      "Writing ejercicio_6.cpp\n"
     ]
    }
   ],
   "source": [
    "%%writefile ejercicio_6.cpp \n",
    "/* cree un programa que lea la longitud y el ancho del campo de un agricultor en pies (dados por un usuario a \n",
    "traves de la terminal). Mostrar el aera del campo en acres */\n",
    "#include <iostream>\n",
    "\n",
    "int main() {\n",
    "\n",
    "    double longitud, ancho;\n",
    "    std::cout << \"Ingrese la longitud del campo en pies: \";\n",
    "    std::cin >> longitud;\n",
    "    std::cout << \"Ingrese el ancho del campo en pies: \";\n",
    "    std::cin >> ancho;\n",
    "    double area_pies_cuadrados = longitud * ancho;\n",
    "    double area_acres = area_pies_cuadrados / 43560;\n",
    "    std::cout << \"El area del campo es: \" << area_acres << \" acres.\" << std::endl;\n",
    "    \n",
    "    return 0;\n",
    "}\n"
   ]
  },
  {
   "cell_type": "code",
   "execution_count": 28,
   "id": "bca56365",
   "metadata": {},
   "outputs": [],
   "source": [
    "!g++ ejercicio_6.cpp -o e6"
   ]
  },
  {
   "cell_type": "code",
   "execution_count": 29,
   "id": "4a4d2de2",
   "metadata": {},
   "outputs": [
    {
     "name": "stdout",
     "output_type": "stream",
     "text": [
      "Writing chatgpt_6.cpp\n"
     ]
    }
   ],
   "source": [
    "%%writefile chatgpt_6.cpp \n",
    "#include <iostream>\n",
    "\n",
    "int main() {\n",
    "    double longitud, ancho;\n",
    "\n",
    "    std::cout << \"Ingrese la longitud del campo en pies: \";\n",
    "    std::cin >> longitud;\n",
    "    std::cout << \"Ingrese el ancho del campo en pies: \";\n",
    "    std::cin >> ancho;\n",
    "\n",
    "    std::cout << \"El area del campo es: \" << (longitud * ancho / 43560) << \" acres.\\n\";\n",
    "\n",
    "    return 0;\n",
    "}"
   ]
  },
  {
   "cell_type": "code",
   "execution_count": 30,
   "id": "6874b3dc",
   "metadata": {},
   "outputs": [
    {
     "name": "stdout",
     "output_type": "stream",
     "text": [
      "Writing ejercicio_7.cpp\n"
     ]
    }
   ],
   "source": [
    "%%writefile ejercicio_7.cpp \n",
    "/* El programa que crees para este ejercicio comenzara leyendo el costo de una comida pedida en un restaurante y \n",
    "dadas por el usuario. Entonces su programa calculara el impuesto y propina para la comida. Utilice su tasa\n",
    "impositiva local al calcular el monto del impuesto adeudado. \n",
    "Calcule la propina como el 18 por ciento del monto de la comida (sin el impuesto). La salida de su programa debe \n",
    "incluir el monto del impuesto, el monto de la propina y el total general para la comida incluye tanto el impuesto\n",
    "como la propina. Formatee la salida para que todos los valores se muestran utilizando dos decimales */\n",
    "#include <iostream>\n",
    "#include <iomanip>\n",
    "\n",
    "int main() {\n",
    "    double costoComida;\n",
    "    std::cout << \"Ingrese el costo de la comida: \";\n",
    "    std::cin >> costoComida;\n",
    "    const double tasaImpuesto = 0.10;\n",
    "    double impuesto = costoComida * tasaImpuesto;\n",
    "    double propina = costoComida * 0.18;\n",
    "    double totalGeneral = costoComida + impuesto + propina;\n",
    "    std::cout << std::fixed << std::setprecision(2);\n",
    "    std::cout << \"Monto del impuesto: $\" << impuesto << std::endl;\n",
    "    std::cout << \"Monto de la propina: $\" << propina << std::endl;\n",
    "    std::cout << \"Total general: $\" << totalGeneral << std::endl;\n",
    "\n",
    "    return 0;\n",
    "}\n"
   ]
  },
  {
   "cell_type": "code",
   "execution_count": 31,
   "id": "784a7981",
   "metadata": {},
   "outputs": [],
   "source": [
    "!g++ ejercicio_7.cpp"
   ]
  },
  {
   "cell_type": "code",
   "execution_count": 32,
   "id": "83745492",
   "metadata": {},
   "outputs": [
    {
     "name": "stdout",
     "output_type": "stream",
     "text": [
      "Writing chatgpt_7.cpp\n"
     ]
    }
   ],
   "source": [
    "%%writefile chatgpt_7.cpp\n",
    "#include <iostream>\n",
    "#include <iomanip>\n",
    "\n",
    "int main() {\n",
    "    double costoComida;\n",
    "\n",
    "    std::cout << \"Ingrese el costo de la comida: \";\n",
    "    std::cin >> costoComida;\n",
    "    \n",
    "    std::cout << std::fixed << std::setprecision(2);\n",
    "    std::cout << \"Monto del impuesto: $\" << (costoComida * 0.10) << \"\\n\";\n",
    "    std::cout << \"Monto de la propina: $\" << (costoComida * 0.18) << \"\\n\";\n",
    "    std::cout << \"Total general: $\" << (costoComida * 1.28) << \"\\n\";\n",
    "\n",
    "    return 0;\n",
    "}\n"
   ]
  },
  {
   "cell_type": "code",
   "execution_count": 33,
   "id": "351fa935",
   "metadata": {},
   "outputs": [],
   "source": [
    "!g++ chatgpt_7.cpp -o c7"
   ]
  },
  {
   "cell_type": "code",
   "execution_count": 34,
   "id": "1be9583b",
   "metadata": {},
   "outputs": [
    {
     "name": "stdout",
     "output_type": "stream",
     "text": [
      "Writing ejercicio_8.cpp\n"
     ]
    }
   ],
   "source": [
    "%%writefile ejercicio_8.cpp\n",
    "/* Escriba un programa que lea un numero entero positivo, n, desde el usuario y luego muestra la suma de todos los \n",
    "numeros enteros del 1 al n. La suma de los primeros n enteros positivos se puede calcular mediante la formula : \n",
    "suma = (n)(n+1)/2 */\n",
    "#include <iostream>\n",
    "\n",
    "int main() {\n",
    "    int n;\n",
    "    std::cout << \"Ingrese un numero entero positivo: \";\n",
    "    std::cin >> n;\n",
    "    int suma = (n * (n + 1)) / 2;\n",
    "    std::cout << \"La suma de los primeros \" << n << \" enteros positivos es: \" << suma << std::endl;\n",
    "\n",
    "    return 0;\n",
    "}\n"
   ]
  },
  {
   "cell_type": "code",
   "execution_count": 35,
   "id": "8c0bdec4",
   "metadata": {},
   "outputs": [],
   "source": [
    "!g++ ejercicio_8.cpp -o e8"
   ]
  },
  {
   "cell_type": "code",
   "execution_count": 36,
   "id": "627e6d8a",
   "metadata": {},
   "outputs": [
    {
     "name": "stdout",
     "output_type": "stream",
     "text": [
      "Writing chatgpt_8.cpp\n"
     ]
    }
   ],
   "source": [
    "%%writefile chatgpt_8.cpp \n",
    "#include <iostream>\n",
    "\n",
    "int main() {\n",
    "    int n;\n",
    "    std::cout << \"Ingrese un numero entero positivo: \";\n",
    "    std::cin >> n;\n",
    "    std::cout << \"La suma de los primeros \" << n << \" enteros positivos es: \" << (n * (n + 1)) / 2 << \"\\n\";\n",
    "    return 0;\n",
    "}"
   ]
  },
  {
   "cell_type": "code",
   "execution_count": 37,
   "id": "a8c40bb0",
   "metadata": {},
   "outputs": [],
   "source": [
    "!g++ chatgpt_8.cpp -o c8"
   ]
  },
  {
   "cell_type": "code",
   "execution_count": 38,
   "id": "513083d4",
   "metadata": {},
   "outputs": [
    {
     "name": "stdout",
     "output_type": "stream",
     "text": [
      "Writing ejercicio_9.cpp\n"
     ]
    }
   ],
   "source": [
    "%%writefile ejercicio_9.cpp\n",
    "/* Un minorista en linea vende dos productos : widgets y gizmos. Cada widget pesa 75 gramos. Cada gizmo pesa \n",
    "112 gramos. Escriba un programa que lea la cantidad de widgets y la cantidad de gizmos en un pedido del \n",
    "usuario. Entonces su programa deberia calcular y mostrar el peso total del pedido */\n",
    "#include <iostream>\n",
    "\n",
    "int main() {\n",
    "    int cantidadWidgets, cantidadGizmos;\n",
    "    const int pesoWidget = 75; // en gramos\n",
    "    const int pesoGizmo = 112; // en gramos\n",
    "    std::cout << \"Ingrese la cantidad de widgets: \";\n",
    "    std::cin >> cantidadWidgets;\n",
    "    std::cout << \"Ingrese la cantidad de gizmos: \";\n",
    "    std::cin >> cantidadGizmos;\n",
    "    int pesoTotal = (cantidadWidgets * pesoWidget) + (cantidadGizmos * pesoGizmo);\n",
    "    std::cout << \"El peso total del pedido es: \" << pesoTotal << \" gramos.\" << std::endl;\n",
    "\n",
    "    return 0;\n",
    "}\n"
   ]
  },
  {
   "cell_type": "code",
   "execution_count": 39,
   "id": "b8974f2a",
   "metadata": {},
   "outputs": [],
   "source": [
    "!g++ ejercicio_9.cpp -o e9"
   ]
  },
  {
   "cell_type": "code",
   "execution_count": 40,
   "id": "8176b234",
   "metadata": {},
   "outputs": [
    {
     "name": "stdout",
     "output_type": "stream",
     "text": [
      "Writing chatgpt_9.cpp\n"
     ]
    }
   ],
   "source": [
    "%%writefile chatgpt_9.cpp\n",
    "#include <iostream>\n",
    "\n",
    "int main() {\n",
    "    int cantidadWidgets, cantidadGizmos;\n",
    "    std::cout << \"Ingrese la cantidad de widgets y gizmos: \";\n",
    "    std::cin >> cantidadWidgets >> cantidadGizmos;\n",
    "    std::cout << \"El peso total del pedido es: \" << (cantidadWidgets * 75 + cantidadGizmos * 112) << \" gramos.\\n\";\n",
    "    return 0;\n",
    "}"
   ]
  },
  {
   "cell_type": "code",
   "execution_count": 41,
   "id": "d7ed87f9",
   "metadata": {},
   "outputs": [],
   "source": [
    "!g++ chatgpt_9.cpp -o c9"
   ]
  },
  {
   "cell_type": "code",
   "execution_count": 42,
   "id": "e21a8c8e",
   "metadata": {},
   "outputs": [],
   "source": [
    "!g++ ejercicio_7.cpp -o e7"
   ]
  },
  {
   "cell_type": "code",
   "execution_count": 53,
   "id": "bcd32e78",
   "metadata": {},
   "outputs": [],
   "source": [
    "!g++ chatgpt_6.cpp -o c6"
   ]
  },
  {
   "cell_type": "code",
   "execution_count": null,
   "id": "939287a5",
   "metadata": {},
   "outputs": [],
   "source": []
  }
 ],
 "metadata": {
  "kernelspec": {
   "display_name": "Python 3 (ipykernel)",
   "language": "python",
   "name": "python3"
  },
  "language_info": {
   "codemirror_mode": {
    "name": "ipython",
    "version": 3
   },
   "file_extension": ".py",
   "mimetype": "text/x-python",
   "name": "python",
   "nbconvert_exporter": "python",
   "pygments_lexer": "ipython3",
   "version": "3.12.3"
  }
 },
 "nbformat": 4,
 "nbformat_minor": 5
}
