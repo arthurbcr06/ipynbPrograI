{
 "cells": [
  {
   "cell_type": "code",
   "execution_count": 11,
   "id": "f986a471-877a-4759-b8ae-62264a47b5d5",
   "metadata": {},
   "outputs": [
    {
     "name": "stdout",
     "output_type": "stream",
     "text": [
      "Overwriting ejercicio6.cpp\n"
     ]
    }
   ],
   "source": [
    "%%writefile ejercicio6.cpp\n",
    "\n",
    "#include <iostream> \n",
    "\n",
    "using namespace std;\n",
    "\n",
    "int main() {\n",
    "    const double impuesto = 0.05; // \n",
    "    const double propina = 0.18; // 18%\n",
    "\n",
    "    double costoComida;\n",
    "    double impuestoValor, propinaValor, costoTotal;\n",
    "\n",
    "    cout << \"Ingrese el costo de la comida: \";\n",
    "    cin >> costoComida;\n",
    "\n",
    "    impuestoValor = costoComida * impuesto;\n",
    "    propinaValor = costoComida * propina;\n",
    "    costoTotal = impuestoValor + propinaValor + costoComida;\n",
    "\n",
    "    cout << \"Impuesto: $\" << impuestoValor << endl;\n",
    "    cout << \"Propina: $\" << propinaValor << endl;\n",
    "    cout << \"Total a pagar: $\" << costoTotal << endl;\n",
    "\n",
    "    return 0;\n",
    "}\n"
   ]
  },
  {
   "cell_type": "code",
   "execution_count": 12,
   "id": "56845423-4df3-41f0-878b-4a6214d28239",
   "metadata": {},
   "outputs": [],
   "source": [
    "!g++ ejercicio6.cpp -o ejercicio_6"
   ]
  },
  {
   "cell_type": "code",
   "execution_count": 13,
   "id": "e048534b-a87d-4570-8ca4-fb22c4eba2b6",
   "metadata": {},
   "outputs": [
    {
     "name": "stdout",
     "output_type": "stream",
     "text": [
      "Writing ejercicio_7.cpp\n"
     ]
    }
   ],
   "source": [
    "%%writefile ejercicio_7.cpp\n",
    "\n",
    "#include <iostream> \n",
    "\n",
    "using namespace std;\n",
    "\n",
    "int main() {\n",
    "    int n;\n",
    "    cout << \"Ingrese un número entero positivo: \";\n",
    "    cin >> n;\n",
    "    if (n > 0) {\n",
    "        int suma = (n * (n + 1)) / 2;\n",
    "        cout << \"La suma de los primeros \" << n << \" enteros positivos es: \" << suma << endl;\n",
    "    } else {\n",
    "        cout << \"Por favor, ingrese un número entero positivo válido.\" << endl;\n",
    "    }\n",
    "    return 0;\n",
    "}"
   ]
  },
  {
   "cell_type": "code",
   "execution_count": 14,
   "id": "95334e1e-9104-426d-bab4-a1abe6caf7b1",
   "metadata": {},
   "outputs": [],
   "source": [
    "!g++ ejercicio_7.cpp -o ejercicio_7"
   ]
  },
  {
   "cell_type": "code",
   "execution_count": 20,
   "id": "f39968d3-c692-4d69-ad4f-a51ae54c6943",
   "metadata": {},
   "outputs": [
    {
     "name": "stdout",
     "output_type": "stream",
     "text": [
      "Overwriting ejercicio_8.cpp\n"
     ]
    }
   ],
   "source": [
    "%%writefile ejercicio_8.cpp\n",
    "\n",
    "#include <iostream> \n",
    "\n",
    "using namespace std; \n",
    "\n",
    "int main() {\n",
    "    int widgets, grizmos, pesoTotalWidgets, pesoTotalGrizmos, pesoTotal;\n",
    "    const int pesoWidget = 75;\n",
    "    const int pesoGrizmo = 112;\n",
    "\n",
    "    cout << \"Ingrese cuantos Widgets quiere comprar: \";\n",
    "    cin >> widgets;\n",
    "    \n",
    "    cout << \"Ingrese cuantos Grizmos quiere comprar: \";\n",
    "    cin >> grizmos;\n",
    "\n",
    "    pesoTotalWidgets = pesoWidget * widgets;\n",
    "    pesoTotalGrizmos = pesoGrizmo * grizmos;\n",
    "    pesoTotal = pesoTotalWidgets + pesoTotalGrizmos;\n",
    "\n",
    "    cout << \"El peso total es: \" << pesoTotal << \" gramos\" << endl;\n",
    "\n",
    "    return 0;\n",
    "}\n"
   ]
  },
  {
   "cell_type": "code",
   "execution_count": 21,
   "id": "678e3d00-66fa-4ab6-986a-69032f17de52",
   "metadata": {},
   "outputs": [],
   "source": [
    "!g++ ejercicio_8.cpp -o ejercicio_8"
   ]
  },
  {
   "cell_type": "code",
   "execution_count": 33,
   "id": "87adf8d6-9236-44c7-ae0b-18719d63b645",
   "metadata": {},
   "outputs": [
    {
     "name": "stdout",
     "output_type": "stream",
     "text": [
      "Overwriting ejercicio_9.cpp\n"
     ]
    }
   ],
   "source": [
    "%%writefile ejercicio_9.cpp\n",
    "#include <iostream> \n",
    "using namespace std;\n",
    "\n",
    "int main(){\n",
    "    double saldo, saldo1, saldo2, saldo3; \n",
    "    const double interes = 0.04;\n",
    "    cout << \"Ingrese la cantidad de dinero :\"<<endl;\n",
    "    cin >> saldo;\n",
    "    saldo1 = saldo * 1.04;\n",
    "    saldo2= saldo1*1.04;\n",
    "    saldo3 = saldo2*1.04;\n",
    "    cout<<\"Saldo inicial : \"<<saldo<<endl<<\"Saldo ano 1 : \"<<saldo1<<endl<<\"Saldo ano 2 :\"<<saldo2<<endl<<\" Saldo ano 3 :\"<<saldo3<<endl;\n",
    "    return 0;\n",
    "}"
   ]
  },
  {
   "cell_type": "code",
   "execution_count": 35,
   "id": "7451e4bd-508d-4d5a-b0ba-019b69b9ff84",
   "metadata": {},
   "outputs": [],
   "source": [
    "!g++ ejercicio_9.cpp -o ejercicio_9"
   ]
  },
  {
   "cell_type": "code",
   "execution_count": 44,
   "id": "304ee6cc-4d44-48d5-988a-9a7159b0febd",
   "metadata": {},
   "outputs": [
    {
     "name": "stdout",
     "output_type": "stream",
     "text": [
      "Overwriting ejercicio9_2.cpp\n"
     ]
    }
   ],
   "source": [
    "%%writefile ejercicio9_2.cpp\n",
    "\n",
    "#include <iostream> \n",
    "#include <iomanip>\n",
    "#include <cmath>\n",
    "\n",
    "using namespace std;\n",
    "\n",
    "int main() {\n",
    "    double deposito;\n",
    "    cout << \"Ingrese la cantidad de dinero depositada: \";\n",
    "    cin >> deposito;\n",
    "    \n",
    "    double tasa = 0.04; // 4% anual\n",
    "    \n",
    "    for (int anio = 1; anio <= 3; anio++) {\n",
    "        double saldo = deposito * pow(1 + tasa, anio);\n",
    "        cout << \"Saldo después de \" << anio << \" año(s): $\" << fixed << setprecision(2) << saldo << endl;\n",
    "    }\n",
    "    \n",
    "    return 0;\n",
    "}\n"
   ]
  },
  {
   "cell_type": "code",
   "execution_count": 45,
   "id": "c8f00dfe-b55b-43d3-92c7-cf3ccc30bb83",
   "metadata": {},
   "outputs": [],
   "source": [
    "!g++ ejercicio9_2.cpp -o ejercicio9_2"
   ]
  },
  {
   "cell_type": "code",
   "execution_count": 50,
   "id": "1227c14f-1506-4112-bb24-d19c95fcb09d",
   "metadata": {},
   "outputs": [
    {
     "name": "stdout",
     "output_type": "stream",
     "text": [
      "Overwriting ejercicio_10.cpp\n"
     ]
    }
   ],
   "source": [
    "%%writefile ejercicio_10.cpp\n",
    "#include <iostream>\n",
    "#include <cmath>\n",
    "using namespace std;\n",
    "\n",
    "int main() {\n",
    "    int a, b;\n",
    "    cout << \"Ingrese el primer entero: \";\n",
    "    cin >> a;\n",
    "    cout << \"Ingrese el segundo entero: \";\n",
    "    cin >> b;\n",
    "\n",
    "    cout << \"La suma de a y b es: \" << a + b << endl;\n",
    "    cout << \"La diferencia cuando b se resta de a es: \" << a - b << endl;\n",
    "    cout << \"El producto de a y b es: \" << a * b << endl;\n",
    "\n",
    "    if (b != 0) {\n",
    "        cout << \"El cociente cuando a se divide entre b es: \" << static_cast<double>(a) / b << endl;\n",
    "        cout << \"El resto cuando a se divide entre b es: \" << a % b << endl;\n",
    "    } else {\n",
    "        cout << \"División por cero no permitida.\" << endl;\n",
    "    }\n",
    "    \n",
    "    if (a > 0) {\n",
    "        cout << \"El resultado de log10(a) es: \" << log10(a) << endl;\n",
    "    } else {\n",
    "        cout << \"log10 no definido para a <= 0.\" << endl;\n",
    "    }\n",
    "    \n",
    "    cout << \"El resultado de a^b es: \" << pow(a, b) << endl;\n",
    "    \n",
    "    return 0;\n",
    "}\n"
   ]
  },
  {
   "cell_type": "code",
   "execution_count": 51,
   "id": "8fdbefc9-631f-4254-9522-99d1e4967e16",
   "metadata": {},
   "outputs": [],
   "source": [
    "!g++ ejercicio_10.cpp -o ejercicio_10"
   ]
  },
  {
   "cell_type": "code",
   "execution_count": 54,
   "id": "7390f26e-942f-49e5-9691-50cc340905ca",
   "metadata": {},
   "outputs": [
    {
     "name": "stdout",
     "output_type": "stream",
     "text": [
      "Overwriting ejercicio_11.cpp\n"
     ]
    }
   ],
   "source": [
    "%%writefile ejercicio_11.cpp\n",
    "#include <iostream> \n",
    "#include <iomanip>\n",
    "using namespace std;\n",
    "\n",
    "int main() {\n",
    "    double mpg;\n",
    "    cout << \"Ingrese la eficiencia en millas por galón (MPG): \";\n",
    "    cin >> mpg;\n",
    "    \n",
    "    if (mpg <= 0) {\n",
    "        cout << \"El valor de MPG debe ser positivo\" << endl;\n",
    "        return 1;\n",
    "    }\n",
    "    \n",
    "    double l_per_100km = 235.214583 / mpg;\n",
    "    cout << \"La eficiencia en litros por 100 km es: \" << fixed << setprecision(2) << l_per_100km << endl;\n",
    "    \n",
    "    return 0;\n",
    "}\n"
   ]
  },
  {
   "cell_type": "code",
   "execution_count": 55,
   "id": "311d6764-eb97-43d3-b060-54a1dd86c460",
   "metadata": {},
   "outputs": [],
   "source": [
    "!g++ ejercicio_11.cpp -o ejercicio_11"
   ]
  },
  {
   "cell_type": "code",
   "execution_count": null,
   "id": "ac4c1373-81d0-415a-9697-56279daaf949",
   "metadata": {},
   "outputs": [],
   "source": []
  }
 ],
 "metadata": {
  "kernelspec": {
   "display_name": "Python 3 (ipykernel)",
   "language": "python",
   "name": "python3"
  },
  "language_info": {
   "codemirror_mode": {
    "name": "ipython",
    "version": 3
   },
   "file_extension": ".py",
   "mimetype": "text/x-python",
   "name": "python",
   "nbconvert_exporter": "python",
   "pygments_lexer": "ipython3",
   "version": "3.12.3"
  }
 },
 "nbformat": 4,
 "nbformat_minor": 5
}
