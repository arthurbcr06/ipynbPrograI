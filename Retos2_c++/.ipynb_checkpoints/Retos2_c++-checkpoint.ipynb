{
 "cells": [
  {
   "cell_type": "code",
   "execution_count": 1,
   "id": "7c66c245",
   "metadata": {},
   "outputs": [
    {
     "name": "stdout",
     "output_type": "stream",
     "text": [
      "Writing ejercicio_1.cpp\n"
     ]
    }
   ],
   "source": [
    "%%writefile ejercicio_1.cpp\n",
    "#include <iostream>\n",
    "using namespace std;\n",
    "\n",
    "class VerificadorDeNumero {\n",
    "public:\n",
    "    void verificarNumero() {\n",
    "        int numero;\n",
    "        cout << \"Introduce un número entero: \";\n",
    "        cin >> numero;\n",
    "\n",
    "        if (numero % 2 == 0) {\n",
    "            cout << \"El número es par.\" << endl;\n",
    "        } else {\n",
    "            cout << \"El número es impar.\" << endl;\n",
    "        }\n",
    "    }\n",
    "};\n",
    "\n",
    "int main() {\n",
    "    VerificadorDeNumero verificador;\n",
    "    verificador.verificarNumero();\n",
    "    return 0;\n",
    "}"
   ]
  },
  {
   "cell_type": "code",
   "execution_count": 2,
   "id": "c3a15e3b",
   "metadata": {},
   "outputs": [],
   "source": [
    "!g++ ejercicio_1.cpp -o e1"
   ]
  },
  {
   "cell_type": "code",
   "execution_count": 3,
   "id": "b46967e0",
   "metadata": {},
   "outputs": [
    {
     "name": "stdout",
     "output_type": "stream",
     "text": [
      "Writing ejercicio_2.cpp\n"
     ]
    }
   ],
   "source": [
    "%%writefile ejercicio_2.cpp \n",
    "\n",
    "#include <iostream>\n",
    "using namespace std;\n",
    "\n",
    "class VerificadorDeLetra {\n",
    "public:\n",
    "    void verificarLetra() {\n",
    "        char letra;\n",
    "        cout << \"Introduce una letra: \";\n",
    "        cin >> letra;\n",
    "\n",
    "        if (letra == 'a' || letra == 'e' || letra == 'i' || letra == 'o' || letra == 'u') {\n",
    "            cout << \"La letra es una vocal.\" << endl;\n",
    "        } else if (letra == 'y') {\n",
    "            cout << \"A veces, 'y' es una vocal, a veces una consonante.\" << endl;\n",
    "        } else {\n",
    "            cout << \"La letra es una consonante.\" << endl;\n",
    "        }\n",
    "    }\n",
    "};\n",
    "\n",
    "int main() {\n",
    "    VerificadorDeLetra verificador;\n",
    "    verificador.verificarLetra();\n",
    "    return 0;\n",
    "}"
   ]
  },
  {
   "cell_type": "code",
   "execution_count": 4,
   "id": "d35e4fbc",
   "metadata": {},
   "outputs": [],
   "source": [
    "!g++ ejercicio_2.cpp -o e2"
   ]
  },
  {
   "cell_type": "code",
   "execution_count": 17,
   "id": "a2b7aabb",
   "metadata": {},
   "outputs": [
    {
     "name": "stdout",
     "output_type": "stream",
     "text": [
      "Overwriting ejercicio_3.cpp\n"
     ]
    }
   ],
   "source": [
    "%%writefile ejercicio_3.cpp \n",
    "#include <iostream>\n",
    "using namespace std;\n",
    "\n",
    "class IdentificadorDeFigura {\n",
    "public:\n",
    "    void identificarFigura() {\n",
    "        int lados;\n",
    "        cout << \"Introduce el número de lados: \";\n",
    "        cin >> lados;\n",
    "\n",
    "        switch (lados) {\n",
    "            case 3: cout << \"Es un triángulo.\" << endl; break;\n",
    "            case 4: cout << \"Es un cuadrilátero.\" << endl; break;\n",
    "            case 5: cout << \"Es un pentágono.\" << endl; break;\n",
    "            case 6: cout << \"Es un hexágono.\" << endl; break;\n",
    "            case 7: cout << \"Es un heptágono.\" << endl; break;\n",
    "            case 8: cout << \"Es un octógono.\" << endl; break;\n",
    "            case 9: cout << \"Es un nonágono.\" << endl; break;\n",
    "            case 10: cout << \"Es un decágono.\" << endl; break;\n",
    "            default: cout << \"Número de lados no válido.\" << endl;\n",
    "        }\n",
    "    }\n",
    "};\n",
    "\n",
    "int main() {\n",
    "    IdentificadorDeFigura identificador;\n",
    "    identificador.identificarFigura();\n",
    "    return 0;\n",
    "}"
   ]
  },
  {
   "cell_type": "code",
   "execution_count": 18,
   "id": "59063445",
   "metadata": {},
   "outputs": [],
   "source": [
    "!g++ ejercicio_3.cpp -o e3"
   ]
  },
  {
   "cell_type": "code",
   "execution_count": 7,
   "id": "c13a488e",
   "metadata": {},
   "outputs": [
    {
     "name": "stdout",
     "output_type": "stream",
     "text": [
      "Writing ejercicio_4.cpp\n"
     ]
    }
   ],
   "source": [
    "%%writefile ejercicio_4.cpp\n",
    "\n",
    "#include <iostream>\n",
    "#include <string>\n",
    "using namespace std;\n",
    "\n",
    "class DiasDelMes {\n",
    "public:\n",
    "    void mostrarDias() {\n",
    "        string mes;\n",
    "        cout << \"Introduce el nombre del mes: \";\n",
    "        cin >> mes;\n",
    "\n",
    "        if (mes == \"enero\" || mes == \"marzo\" || mes == \"mayo\" || mes == \"julio\" ||\n",
    "            mes == \"agosto\" || mes == \"octubre\" || mes == \"diciembre\") {\n",
    "            cout << \"31 días\" << endl;\n",
    "        } else if (mes == \"abril\" || mes == \"junio\" || mes == \"septiembre\" || mes == \"noviembre\") {\n",
    "            cout << \"30 días\" << endl;\n",
    "        } else if (mes == \"febrero\") {\n",
    "            cout << \"28 o 29 días\" << endl;\n",
    "        } else {\n",
    "            cout << \"Mes no válido\" << endl;\n",
    "        }\n",
    "    }\n",
    "};\n",
    "\n",
    "int main() {\n",
    "    DiasDelMes dias;\n",
    "    dias.mostrarDias();\n",
    "    return 0;\n",
    "}"
   ]
  },
  {
   "cell_type": "code",
   "execution_count": 8,
   "id": "c8ccdaa3",
   "metadata": {},
   "outputs": [],
   "source": [
    "!g++ ejercicio_4.cpp -o e4"
   ]
  },
  {
   "cell_type": "code",
   "execution_count": 19,
   "id": "3f346913",
   "metadata": {},
   "outputs": [
    {
     "name": "stdout",
     "output_type": "stream",
     "text": [
      "Overwriting ejercicio_5.cpp\n"
     ]
    }
   ],
   "source": [
    "%%writefile ejercicio_5.cpp \n",
    "\n",
    "#include <iostream>\n",
    "using namespace std;\n",
    "\n",
    "class ZodiacoChino {\n",
    "public:\n",
    "    string obtenerAnimal(int año) {\n",
    "        // Lista de animales del zodíaco chino según la tabla proporcionada\n",
    "        string animales[] = {\"Dragón\", \"Serpiente\", \"Caballo\", \"Oveja\", \"Mono\", \"Gallo\", \"Perro\", \"Cerdo\", \"Rata\", \"Buey\", \"Tigre\", \"Liebre\"};\n",
    "\n",
    "        // Calcular el índice del animal basado en el año\n",
    "        int indice = (año - 2000) % 12;\n",
    "        if (indice < 0) indice += 12; // Ajuste para años negativos\n",
    "\n",
    "        return animales[indice];\n",
    "    }\n",
    "\n",
    "    void mostrarAnimal() {\n",
    "        int año;\n",
    "        cout << \"Introduce un año: \";\n",
    "        cin >> año;\n",
    "\n",
    "        if (año >= 0) {\n",
    "            cout << \"El animal asociado es: \" << obtenerAnimal(año) << endl;\n",
    "        } else {\n",
    "            cout << \"Año no válido. Debe ser mayor o igual a 0.\" << endl;\n",
    "        }\n",
    "    }\n",
    "};\n",
    "\n",
    "int main() {\n",
    "    ZodiacoChino zodiaco;\n",
    "    zodiaco.mostrarAnimal();\n",
    "    return 0;\n",
    "}"
   ]
  },
  {
   "cell_type": "code",
   "execution_count": 20,
   "id": "85021130",
   "metadata": {},
   "outputs": [],
   "source": [
    "!g++ ejercicio_5.cpp -o e5"
   ]
  },
  {
   "cell_type": "code",
   "execution_count": 13,
   "id": "dc943e39",
   "metadata": {},
   "outputs": [
    {
     "name": "stdout",
     "output_type": "stream",
     "text": [
      "Writing ejercicio_6.cpp\n"
     ]
    }
   ],
   "source": [
    "%%writefile ejercicio_6.cpp\n",
    "#include <iostream>\n",
    "#include <cmath>\n",
    "using namespace std;\n",
    "\n",
    "class CalculadorDeFrecuencia {\n",
    "public:\n",
    "    double obtenerFrecuencia(char nota, int octava) {\n",
    "        double frecuencias[7] = {261.63, 293.66, 329.63, 349.23, 392.00, 440.00, 493.88};\n",
    "        int indice = nota - 'C';\n",
    "\n",
    "        if (indice < 0 || indice >= 7) {\n",
    "            return -1; // Nota no válida\n",
    "        }\n",
    "\n",
    "        double frecuenciaBase = frecuencias[indice];\n",
    "        return frecuenciaBase * pow(2, octava - 4);\n",
    "    }\n",
    "\n",
    "    void calcularFrecuencia() {\n",
    "        char nota;\n",
    "        int octava;\n",
    "        cout << \"Introduce la nota (C, D, E, F, G, A, B): \";\n",
    "        cin >> nota;\n",
    "        cout << \"Introduce la octava (0-8): \";\n",
    "        cin >> octava;\n",
    "\n",
    "        double frecuencia = obtenerFrecuencia(toupper(nota), octava);\n",
    "        if (frecuencia > 0) {\n",
    "            cout << \"La frecuencia de \" << nota << octava << \" es \" << frecuencia << \" Hz.\" << endl;\n",
    "        } else {\n",
    "            cout << \"Nota no válida\" << endl;\n",
    "        }\n",
    "    }\n",
    "};\n",
    "\n",
    "int main() {\n",
    "    CalculadorDeFrecuencia calculador;\n",
    "    calculador.calcularFrecuencia();\n",
    "    return 0;\n",
    "}"
   ]
  },
  {
   "cell_type": "code",
   "execution_count": 14,
   "id": "772d455b",
   "metadata": {},
   "outputs": [],
   "source": [
    "!g++ ejercicio_6.cpp -o e6"
   ]
  },
  {
   "cell_type": "code",
   "execution_count": null,
   "id": "e286227d",
   "metadata": {},
   "outputs": [],
   "source": []
  }
 ],
 "metadata": {
  "kernelspec": {
   "display_name": "Python 3 (ipykernel)",
   "language": "python",
   "name": "python3"
  },
  "language_info": {
   "codemirror_mode": {
    "name": "ipython",
    "version": 3
   },
   "file_extension": ".py",
   "mimetype": "text/x-python",
   "name": "python",
   "nbconvert_exporter": "python",
   "pygments_lexer": "ipython3",
   "version": "3.12.3"
  }
 },
 "nbformat": 4,
 "nbformat_minor": 5
}
